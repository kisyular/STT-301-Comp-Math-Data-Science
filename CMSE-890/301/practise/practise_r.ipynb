{
 "cells": [
  {
   "cell_type": "markdown",
   "metadata": {},
   "source": [
    "### 1. Using R, how would you calculate the square root of half of the average of the numbers 25.2, 10, 16.44, 17.3, and 18.6?"
   ]
  },
  {
   "cell_type": "code",
   "execution_count": 8,
   "metadata": {},
   "outputs": [
    {
     "data": {
      "text/html": [
       "<ol class=list-inline>\n",
       "\t<li>25.2</li>\n",
       "\t<li>10</li>\n",
       "\t<li>16.44</li>\n",
       "\t<li>17.3</li>\n",
       "\t<li>18.6</li>\n",
       "</ol>\n"
      ],
      "text/latex": [
       "\\begin{enumerate*}\n",
       "\\item 25.2\n",
       "\\item 10\n",
       "\\item 16.44\n",
       "\\item 17.3\n",
       "\\item 18.6\n",
       "\\end{enumerate*}\n"
      ],
      "text/markdown": [
       "1. 25.2\n",
       "2. 10\n",
       "3. 16.44\n",
       "4. 17.3\n",
       "5. 18.6\n",
       "\n",
       "\n"
      ],
      "text/plain": [
       "[1] 25.20 10.00 16.44 17.30 18.60"
      ]
     },
     "metadata": {},
     "output_type": "display_data"
    },
    {
     "name": "stdout",
     "output_type": "stream",
     "text": [
      "[1] 8.754\n",
      "[1] 2.958716\n"
     ]
    }
   ],
   "source": [
    "my_vector <- c(25.2, 10, 16.44, 17.3, 18.6)\n",
    "my_vector\n",
    "\n",
    "half_avg = 0.5 * mean(my_vector)\n",
    "print(half_avg)\n",
    "print(sqrt(half_avg))"
   ]
  },
  {
   "cell_type": "markdown",
   "metadata": {},
   "source": [
    "### 2.Find log (base e) of 0.3."
   ]
  },
  {
   "cell_type": "code",
   "execution_count": 9,
   "metadata": {},
   "outputs": [
    {
     "data": {
      "text/html": [
       "-1.20397280432594"
      ],
      "text/latex": [
       "-1.20397280432594"
      ],
      "text/markdown": [
       "-1.20397280432594"
      ],
      "text/plain": [
       "[1] -1.203973"
      ]
     },
     "metadata": {},
     "output_type": "display_data"
    }
   ],
   "source": [
    "log(x = 0.3, base = exp(1))"
   ]
  },
  {
   "cell_type": "markdown",
   "metadata": {},
   "source": [
    "### 3.Create an object (variable) that stores the value 3^2 x 4^(1/8).  Then overwrite that value with itself divided by 2.35.  Print the result to the console."
   ]
  },
  {
   "cell_type": "code",
   "execution_count": 11,
   "metadata": {},
   "outputs": [
    {
     "data": {
      "text/html": [
       "3.29318893385369"
      ],
      "text/latex": [
       "3.29318893385369"
      ],
      "text/markdown": [
       "3.29318893385369"
      ],
      "text/plain": [
       "[1] 3.293189"
      ]
     },
     "metadata": {},
     "output_type": "display_data"
    }
   ],
   "source": [
    "sol <- 3^2 * 4^(1/8)\n",
    "sol = sol/3.25\n",
    "sol"
   ]
  },
  {
   "cell_type": "markdown",
   "metadata": {},
   "source": [
    "### 4. Create and store a sequence of values from 5 to -15 that progresses in steps of 0.3"
   ]
  },
  {
   "cell_type": "code",
   "execution_count": null,
   "metadata": {},
   "outputs": [],
   "source": []
  }
 ],
 "metadata": {
  "kernelspec": {
   "display_name": "R",
   "language": "R",
   "name": "ir"
  },
  "language_info": {
   "codemirror_mode": "r",
   "file_extension": ".r",
   "mimetype": "text/x-r-source",
   "name": "R",
   "pygments_lexer": "r",
   "version": "3.5.0"
  }
 },
 "nbformat": 4,
 "nbformat_minor": 2
}
